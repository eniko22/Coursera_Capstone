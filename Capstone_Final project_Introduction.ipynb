{
 "cells": [
  {
   "cell_type": "markdown",
   "metadata": {
    "collapsed": true
   },
   "source": [
    "# Introduction/Business Problem"
   ]
  },
  {
   "cell_type": "markdown",
   "metadata": {},
   "source": [
    "One of our top Client contracted our firm to find out what would be the best neighbourhood in Madrid to open a coffee shop. \n",
    "\n",
    "Madrid, as the capital of Spain attracts millions of tourists every year. However native Spanish people prefer having a desayuno/almuerzo (breakfast/brunch) in a local bar but the tourists prefer a fancy coffee shop where there is huge variety of coffees. \n",
    "\n",
    "In this project we will examine each neighbourhood in Madrid to determine which one would be the absolute best choice for opening this business. We will take in account the popular venues in each area. \n",
    "\n",
    "This analyzation is made for our Client so he can further decide on the next step. "
   ]
  },
  {
   "cell_type": "code",
   "execution_count": null,
   "metadata": {},
   "outputs": [],
   "source": []
  }
 ],
 "metadata": {
  "kernelspec": {
   "display_name": "Python 3.7",
   "language": "python",
   "name": "python3"
  },
  "language_info": {
   "codemirror_mode": {
    "name": "ipython",
    "version": 3
   },
   "file_extension": ".py",
   "mimetype": "text/x-python",
   "name": "python",
   "nbconvert_exporter": "python",
   "pygments_lexer": "ipython3",
   "version": "3.7.9"
  }
 },
 "nbformat": 4,
 "nbformat_minor": 1
}
