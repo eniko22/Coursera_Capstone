{
 "cells": [
  {
   "cell_type": "markdown",
   "metadata": {
    "collapsed": true
   },
   "source": [
    "# Data"
   ]
  },
  {
   "cell_type": "markdown",
   "metadata": {},
   "source": [
    "For this analyzation we use the list of neighbourhoods of Madrid from Wikipedia and with the help of one of the most trusted, independent location data platform, Foursquare we will determine the best spot for a revenue generating business.\n",
    "\n",
    "First we will clean the data from Wikipedia and strangle it, and later on with the cleared and straight-forward data we can actually connect to the Foursquare's API to help us further in our investigation.\n",
    "\n",
    "We will list the most common venue categories for each neighbourhood and we are also planning to make clusters so we can better decide the adequate neighbourhood.\n",
    "\n",
    "One of our main question is \"Should the coffee shop be in the centre just because there is a lot of tourist there? Or would it be better to have it in another neighborhood, for example near to Retiro Park?\"\n",
    "\n",
    "We will work on providing answers to these questions."
   ]
  }
 ],
 "metadata": {
  "kernelspec": {
   "display_name": "Python 3.7",
   "language": "python",
   "name": "python3"
  },
  "language_info": {
   "codemirror_mode": {
    "name": "ipython",
    "version": 3
   },
   "file_extension": ".py",
   "mimetype": "text/x-python",
   "name": "python",
   "nbconvert_exporter": "python",
   "pygments_lexer": "ipython3",
   "version": "3.7.9"
  }
 },
 "nbformat": 4,
 "nbformat_minor": 1
}
